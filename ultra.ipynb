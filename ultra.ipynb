{
 "cells": [
  {
   "cell_type": "code",
   "execution_count": 1,
   "id": "ae901fa8",
   "metadata": {},
   "outputs": [],
   "source": [
    "import pandas as pd\n",
    "import numpy as np \n",
    "import matplotlib.pyplot as plt"
   ]
  },
  {
   "cell_type": "code",
   "execution_count": 32,
   "id": "808aa207",
   "metadata": {},
   "outputs": [
    {
     "data": {
      "text/html": [
       "<div>\n",
       "<style scoped>\n",
       "    .dataframe tbody tr th:only-of-type {\n",
       "        vertical-align: middle;\n",
       "    }\n",
       "\n",
       "    .dataframe tbody tr th {\n",
       "        vertical-align: top;\n",
       "    }\n",
       "\n",
       "    .dataframe thead th {\n",
       "        text-align: right;\n",
       "    }\n",
       "</style>\n",
       "<table border=\"1\" class=\"dataframe\">\n",
       "  <thead>\n",
       "    <tr style=\"text-align: right;\">\n",
       "      <th></th>\n",
       "      <th>Time</th>\n",
       "      <th>Open</th>\n",
       "      <th>High</th>\n",
       "      <th>Low</th>\n",
       "      <th>Close</th>\n",
       "      <th>Volume</th>\n",
       "    </tr>\n",
       "  </thead>\n",
       "  <tbody>\n",
       "    <tr>\n",
       "      <th>30000</th>\n",
       "      <td>1629592200000</td>\n",
       "      <td>1.2251</td>\n",
       "      <td>1.2281</td>\n",
       "      <td>1.2247</td>\n",
       "      <td>1.2274</td>\n",
       "      <td>256002.37</td>\n",
       "    </tr>\n",
       "    <tr>\n",
       "      <th>30001</th>\n",
       "      <td>1629592260000</td>\n",
       "      <td>1.2275</td>\n",
       "      <td>1.2275</td>\n",
       "      <td>1.2260</td>\n",
       "      <td>1.2268</td>\n",
       "      <td>137690.89</td>\n",
       "    </tr>\n",
       "    <tr>\n",
       "      <th>30002</th>\n",
       "      <td>1629592320000</td>\n",
       "      <td>1.2268</td>\n",
       "      <td>1.2270</td>\n",
       "      <td>1.2260</td>\n",
       "      <td>1.2266</td>\n",
       "      <td>43401.56</td>\n",
       "    </tr>\n",
       "    <tr>\n",
       "      <th>30003</th>\n",
       "      <td>1629592380000</td>\n",
       "      <td>1.2266</td>\n",
       "      <td>1.2267</td>\n",
       "      <td>1.2254</td>\n",
       "      <td>1.2260</td>\n",
       "      <td>118702.32</td>\n",
       "    </tr>\n",
       "    <tr>\n",
       "      <th>30004</th>\n",
       "      <td>1629592440000</td>\n",
       "      <td>1.2260</td>\n",
       "      <td>1.2279</td>\n",
       "      <td>1.2259</td>\n",
       "      <td>1.2269</td>\n",
       "      <td>398406.63</td>\n",
       "    </tr>\n",
       "    <tr>\n",
       "      <th>...</th>\n",
       "      <td>...</td>\n",
       "      <td>...</td>\n",
       "      <td>...</td>\n",
       "      <td>...</td>\n",
       "      <td>...</td>\n",
       "      <td>...</td>\n",
       "    </tr>\n",
       "    <tr>\n",
       "      <th>30495</th>\n",
       "      <td>1629621900000</td>\n",
       "      <td>1.2427</td>\n",
       "      <td>1.2442</td>\n",
       "      <td>1.2425</td>\n",
       "      <td>1.2432</td>\n",
       "      <td>207965.91</td>\n",
       "    </tr>\n",
       "    <tr>\n",
       "      <th>30496</th>\n",
       "      <td>1629621960000</td>\n",
       "      <td>1.2432</td>\n",
       "      <td>1.2438</td>\n",
       "      <td>1.2428</td>\n",
       "      <td>1.2433</td>\n",
       "      <td>73413.78</td>\n",
       "    </tr>\n",
       "    <tr>\n",
       "      <th>30497</th>\n",
       "      <td>1629622020000</td>\n",
       "      <td>1.2432</td>\n",
       "      <td>1.2441</td>\n",
       "      <td>1.2432</td>\n",
       "      <td>1.2441</td>\n",
       "      <td>124995.63</td>\n",
       "    </tr>\n",
       "    <tr>\n",
       "      <th>30498</th>\n",
       "      <td>1629622080000</td>\n",
       "      <td>1.2441</td>\n",
       "      <td>1.2441</td>\n",
       "      <td>1.2428</td>\n",
       "      <td>1.2430</td>\n",
       "      <td>184059.97</td>\n",
       "    </tr>\n",
       "    <tr>\n",
       "      <th>30499</th>\n",
       "      <td>1629622140000</td>\n",
       "      <td>1.2431</td>\n",
       "      <td>1.2433</td>\n",
       "      <td>1.2424</td>\n",
       "      <td>1.2426</td>\n",
       "      <td>120115.71</td>\n",
       "    </tr>\n",
       "  </tbody>\n",
       "</table>\n",
       "<p>500 rows × 6 columns</p>\n",
       "</div>"
      ],
      "text/plain": [
       "                Time    Open    High     Low   Close     Volume\n",
       "30000  1629592200000  1.2251  1.2281  1.2247  1.2274  256002.37\n",
       "30001  1629592260000  1.2275  1.2275  1.2260  1.2268  137690.89\n",
       "30002  1629592320000  1.2268  1.2270  1.2260  1.2266   43401.56\n",
       "30003  1629592380000  1.2266  1.2267  1.2254  1.2260  118702.32\n",
       "30004  1629592440000  1.2260  1.2279  1.2259  1.2269  398406.63\n",
       "...              ...     ...     ...     ...     ...        ...\n",
       "30495  1629621900000  1.2427  1.2442  1.2425  1.2432  207965.91\n",
       "30496  1629621960000  1.2432  1.2438  1.2428  1.2433   73413.78\n",
       "30497  1629622020000  1.2432  1.2441  1.2432  1.2441  124995.63\n",
       "30498  1629622080000  1.2441  1.2441  1.2428  1.2430  184059.97\n",
       "30499  1629622140000  1.2431  1.2433  1.2424  1.2426  120115.71\n",
       "\n",
       "[500 rows x 6 columns]"
      ]
     },
     "execution_count": 32,
     "metadata": {},
     "output_type": "execute_result"
    },
    {
     "data": {
      "image/png": "[encoded data removed]",
      "text/plain": [
       "<Figure size 432x288 with 1 Axes>"
      ]
     },
     "metadata": {
      "needs_background": "light"
     },
     "output_type": "display_data"
    }
   ],
   "source": [
    "#df = pd.read_csv(\"XRPUSDT-1m-2021-09-01.csv\")\n",
    "df = pd.read_csv(\"XRPUSDT-8.csv\")\n",
    "#df = df.drop('Time',axis=1)\n",
    "df = df[30000:30500]\n",
    "plt.plot(df['Close'])\n",
    "plt.show\n",
    "df"
   ]
  },
  {
   "cell_type": "code",
   "execution_count": 33,
   "id": "343e2b77",
   "metadata": {},
   "outputs": [
    {
     "data": {
      "text/plain": [
       "0      1.2274\n",
       "1      1.2268\n",
       "2      1.2266\n",
       "3      1.2260\n",
       "4      1.2269\n",
       "        ...  \n",
       "495    1.2432\n",
       "496    1.2433\n",
       "497    1.2441\n",
       "498    1.2430\n",
       "499    1.2426\n",
       "Name: 0, Length: 500, dtype: float64"
      ]
     },
     "execution_count": 33,
     "metadata": {},
     "output_type": "execute_result"
    }
   ],
   "source": [
    "arr = pd.DataFrame(np.array(df['Close']))[0]\n",
    "pro = 0\n",
    "fee = 0.001\n",
    "arr"
   ]
  },
  {
   "cell_type": "code",
   "execution_count": 34,
   "id": "cdbbd55f",
   "metadata": {},
   "outputs": [],
   "source": [
    "def calc(pro):\n",
    "    grosspro = ((arr[arr<(arr.max()*(1-pro))].sum())*pro)\n",
    "    grosscost1 = (arr[arr>=(arr.max()*(1-pro))].sum()) - len(arr[arr>=(arr.max()*(1-pro))])*arr.mean()\n",
    "    grosscost2 = arr.sum()*fee\n",
    "    prof = grosspro - grosscost1 - grosscost2\n",
    "    return prof"
   ]
  },
  {
   "cell_type": "code",
   "execution_count": 35,
   "id": "5c6158a1",
   "metadata": {},
   "outputs": [
    {
     "name": "stdout",
     "output_type": "stream",
     "text": [
      "-0.6745230000000008\n",
      "0.014518139999999992\n"
     ]
    },
    {
     "data": {
      "text/plain": [
       "3.5659402067739383"
      ]
     },
     "execution_count": 35,
     "metadata": {},
     "output_type": "execute_result"
    }
   ],
   "source": [
    "t=0.01\n",
    "initial = calc(pro)\n",
    "print(initial)\n",
    "for i in range(30):\n",
    "    pro += t\n",
    "    if(initial>calc(pro)):\n",
    "        pro -= t\n",
    "        t *= 0.1\n",
    "    else:\n",
    "        initial=calc(pro)\n",
    "print(pro)\n",
    "net = calc(pro)\n",
    "net"
   ]
  },
  {
   "cell_type": "code",
   "execution_count": 36,
   "id": "a514e0f8",
   "metadata": {},
   "outputs": [
    {
     "data": {
      "text/plain": [
       "0.5777090336956046"
      ]
     },
     "execution_count": 36,
     "metadata": {},
     "output_type": "execute_result"
    }
   ],
   "source": [
    "(net/arr.sum())*100"
   ]
  },
  {
   "cell_type": "code",
   "execution_count": 37,
   "id": "3d9b4d7a",
   "metadata": {},
   "outputs": [
    {
     "data": {
      "text/plain": [
       "617.2554"
      ]
     },
     "execution_count": 37,
     "metadata": {},
     "output_type": "execute_result"
    }
   ],
   "source": [
    "arr.sum()"
   ]
  },
  {
   "cell_type": "code",
   "execution_count": 38,
   "id": "a12df05b",
   "metadata": {},
   "outputs": [],
   "source": [
    "def calc2(p):\n",
    "    le = len(arr)\n",
    "    d = np.zeros(le)\n",
    "    sumt=0\n",
    "    pro2=0\n",
    "    for i in range(le):\n",
    "        d[i] = arr[i]\n",
    "        m = d*(1+p)\n",
    "        n=m-d\n",
    "        if(sumt<d.sum()):\n",
    "            sumt = d.sum()\n",
    "        pro2 += (n[np.where((m<=arr[i])&(m>0))]).sum()\n",
    "        d[np.where((m<=arr[i])&(m>0))] = 0\n",
    "    pro2 -= arr.sum()*fee\n",
    "    pro2 -= (d[np.where(d>0)]-arr[len(arr)-1]).sum()\n",
    "    return pro2/sumt"
   ]
  },
  {
   "cell_type": "code",
   "execution_count": 39,
   "id": "d5d508a0",
   "metadata": {},
   "outputs": [
    {
     "name": "stdout",
     "output_type": "stream",
     "text": [
      "-0.49238624760689215\n",
      "0  -  0.01\n",
      "1  -  0.01\n",
      "2  -  0.011\n",
      "3  -  0.012\n",
      "4  -  0.013000000000000001\n",
      "5  -  0.014000000000000002\n",
      "6  -  0.015000000000000003\n",
      "7  -  0.015000000000000003\n",
      "8  -  0.015000000000000003\n",
      "9  -  0.015010000000000003\n",
      "10  -  0.015020000000000002\n",
      "11  -  0.015030000000000002\n",
      "12  -  0.015040000000000001\n",
      "13  -  0.015050000000000001\n",
      "14  -  0.015050000000000001\n",
      "15  -  0.015051\n",
      "16  -  0.015052\n",
      "17  -  0.015052999999999999\n",
      "18  -  0.015053999999999998\n",
      "19  -  0.015054999999999997\n",
      "0.011773689183090123\n"
     ]
    }
   ],
   "source": [
    "t=0.01\n",
    "pro = 0\n",
    "initial = calc2(pro)\n",
    "print(initial)\n",
    "for i in range(20):\n",
    "    pro += t\n",
    "    if(initial>calc2(pro)):\n",
    "        pro -= t\n",
    "        t *= 0.1\n",
    "    else:\n",
    "        initial=calc2(pro)\n",
    "    print(i,\" - \",pro)\n",
    "\n",
    "print(initial)"
   ]
  },
  {
   "cell_type": "code",
   "execution_count": 49,
   "id": "fc8a5462",
   "metadata": {},
   "outputs": [
    {
     "data": {
      "text/plain": [
       "<function matplotlib.pyplot.show(close=None, block=None)>"
      ]
     },
     "execution_count": 49,
     "metadata": {},
     "output_type": "execute_result"
    },
    {
     "data": {
      "image/png": "[encoded data removed]",
      "text/plain": [
       "<Figure size 432x288 with 1 Axes>"
      ]
     },
     "metadata": {
      "needs_background": "light"
     },
     "output_type": "display_data"
    }
   ],
   "source": [
    "pro = np.arange(0,0.02,0.001)\n",
    "ans = np.zeros(len(pro))\n",
    "for i in range(len(pro)):\n",
    "    ans[i] = calc2(pro[i])\n",
    "plt.plot(ans[2:])\n",
    "plt.show"
   ]
  },
  {
   "cell_type": "code",
   "execution_count": 47,
   "id": "80ca7208",
   "metadata": {},
   "outputs": [
    {
     "data": {
      "text/plain": [
       "array([-0.49238625, -0.00318156,  0.00272074,  0.00588667,  0.00659407,\n",
       "        0.00701054,  0.00789081,  0.00896907,  0.00975779,  0.01051459,\n",
       "        0.01069205,  0.01102043,  0.01137506,  0.01146525,  0.01159863,\n",
       "        0.01172486,  0.01147072,  0.01055561,  0.00978003,  0.00913675])"
      ]
     },
     "execution_count": 47,
     "metadata": {},
     "output_type": "execute_result"
    }
   ],
   "source": [
    "ans"
   ]
  },
  {
   "cell_type": "code",
   "execution_count": null,
   "id": "04370dfe",
   "metadata": {},
   "outputs": [],
   "source": [
    "pro[10]"
   ]
  },
  {
   "cell_type": "code",
   "execution_count": null,
   "id": "714b482c",
   "metadata": {},
   "outputs": [],
   "source": []
  }
 ],
 "metadata": {
  "kernelspec": {
   "display_name": "Python 3",
   "language": "python",
   "name": "python3"
  },
  "language_info": {
   "codemirror_mode": {
    "name": "ipython",
    "version": 3
   },
   "file_extension": ".py",
   "mimetype": "text/x-python",
   "name": "python",
   "nbconvert_exporter": "python",
   "pygments_lexer": "ipython3",
   "version": "3.8.8"
  }
 },
 "nbformat": 4,
 "nbformat_minor": 5
}
