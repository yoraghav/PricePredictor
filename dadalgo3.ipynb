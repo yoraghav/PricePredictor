{
 "cells": [
  {
   "cell_type": "code",
   "execution_count": 12,
   "id": "2f020d24",
   "metadata": {},
   "outputs": [],
   "source": [
    "# Import required libraries\n",
    "import pandas as pd\n",
    "import numpy as np \n",
    "import matplotlib.pyplot as plt\n",
    "import sklearn\n",
    "\n",
    "# Import necessary modules\n",
    "from sklearn.model_selection import train_test_split\n",
    "from sklearn.metrics import mean_squared_error\n",
    "from math import sqrt\n",
    "\n",
    "# Keras specific\n",
    "import tensorflow\n",
    "from tensorflow import keras\n",
    "from keras.models import Sequential\n",
    "from keras.layers import Dense"
   ]
  },
  {
   "cell_type": "code",
   "execution_count": 13,
   "id": "6a0f7137",
   "metadata": {},
   "outputs": [
    {
     "data": {
      "text/plain": [
       "0         0.111613\n",
       "1         0.112172\n",
       "2         0.112131\n",
       "3         0.112075\n",
       "4         0.112142\n",
       "            ...   \n",
       "392123    0.484013\n",
       "392124    0.483606\n",
       "392125    0.483911\n",
       "392126    0.484216\n",
       "392127    0.484928\n",
       "Name: High, Length: 392128, dtype: float64"
      ]
     },
     "execution_count": 13,
     "metadata": {},
     "output_type": "execute_result"
    }
   ],
   "source": [
    "df = pd.read_csv(\"merged_2021.csv\")\n",
    "df = df[\"High\"]\n",
    "df = df/df.max()\n",
    "df"
   ]
  },
  {
   "cell_type": "code",
   "execution_count": 14,
   "id": "ef742faf",
   "metadata": {},
   "outputs": [],
   "source": [
    "import tensorflow"
   ]
  },
  {
   "cell_type": "code",
   "execution_count": 15,
   "id": "8365b2b6",
   "metadata": {},
   "outputs": [],
   "source": [
    "length = 200"
   ]
  },
  {
   "cell_type": "code",
   "execution_count": 16,
   "id": "a2459f71",
   "metadata": {},
   "outputs": [],
   "source": [
    "df4 = df[:-length]\n",
    "df4 = np.array([np.array(df4)]).T\n"
   ]
  },
  {
   "cell_type": "code",
   "execution_count": 17,
   "id": "9c764985",
   "metadata": {},
   "outputs": [
    {
     "data": {
      "text/html": [
       "<div>\n",
       "<style scoped>\n",
       "    .dataframe tbody tr th:only-of-type {\n",
       "        vertical-align: middle;\n",
       "    }\n",
       "\n",
       "    .dataframe tbody tr th {\n",
       "        vertical-align: top;\n",
       "    }\n",
       "\n",
       "    .dataframe thead th {\n",
       "        text-align: right;\n",
       "    }\n",
       "</style>\n",
       "<table border=\"1\" class=\"dataframe\">\n",
       "  <thead>\n",
       "    <tr style=\"text-align: right;\">\n",
       "      <th></th>\n",
       "      <th>0</th>\n",
       "      <th>1</th>\n",
       "      <th>2</th>\n",
       "      <th>3</th>\n",
       "      <th>4</th>\n",
       "      <th>5</th>\n",
       "      <th>6</th>\n",
       "      <th>7</th>\n",
       "      <th>8</th>\n",
       "      <th>9</th>\n",
       "      <th>...</th>\n",
       "      <th>190</th>\n",
       "      <th>191</th>\n",
       "      <th>192</th>\n",
       "      <th>193</th>\n",
       "      <th>194</th>\n",
       "      <th>195</th>\n",
       "      <th>196</th>\n",
       "      <th>197</th>\n",
       "      <th>198</th>\n",
       "      <th>199</th>\n",
       "    </tr>\n",
       "  </thead>\n",
       "  <tbody>\n",
       "    <tr>\n",
       "      <th>0</th>\n",
       "      <td>0.111613</td>\n",
       "      <td>0.112172</td>\n",
       "      <td>0.112131</td>\n",
       "      <td>0.112075</td>\n",
       "      <td>0.112142</td>\n",
       "      <td>0.112025</td>\n",
       "      <td>0.111811</td>\n",
       "      <td>0.111730</td>\n",
       "      <td>0.111501</td>\n",
       "      <td>0.111328</td>\n",
       "      <td>...</td>\n",
       "      <td>0.113789</td>\n",
       "      <td>0.113860</td>\n",
       "      <td>0.113835</td>\n",
       "      <td>0.113794</td>\n",
       "      <td>0.113758</td>\n",
       "      <td>0.113921</td>\n",
       "      <td>0.113870</td>\n",
       "      <td>0.113926</td>\n",
       "      <td>0.113916</td>\n",
       "      <td>0.113936</td>\n",
       "    </tr>\n",
       "    <tr>\n",
       "      <th>1</th>\n",
       "      <td>0.112172</td>\n",
       "      <td>0.112131</td>\n",
       "      <td>0.112075</td>\n",
       "      <td>0.112142</td>\n",
       "      <td>0.112025</td>\n",
       "      <td>0.111811</td>\n",
       "      <td>0.111730</td>\n",
       "      <td>0.111501</td>\n",
       "      <td>0.111328</td>\n",
       "      <td>0.111211</td>\n",
       "      <td>...</td>\n",
       "      <td>0.113860</td>\n",
       "      <td>0.113835</td>\n",
       "      <td>0.113794</td>\n",
       "      <td>0.113758</td>\n",
       "      <td>0.113921</td>\n",
       "      <td>0.113870</td>\n",
       "      <td>0.113926</td>\n",
       "      <td>0.113916</td>\n",
       "      <td>0.113936</td>\n",
       "      <td>0.114262</td>\n",
       "    </tr>\n",
       "    <tr>\n",
       "      <th>2</th>\n",
       "      <td>0.112131</td>\n",
       "      <td>0.112075</td>\n",
       "      <td>0.112142</td>\n",
       "      <td>0.112025</td>\n",
       "      <td>0.111811</td>\n",
       "      <td>0.111730</td>\n",
       "      <td>0.111501</td>\n",
       "      <td>0.111328</td>\n",
       "      <td>0.111211</td>\n",
       "      <td>0.110957</td>\n",
       "      <td>...</td>\n",
       "      <td>0.113835</td>\n",
       "      <td>0.113794</td>\n",
       "      <td>0.113758</td>\n",
       "      <td>0.113921</td>\n",
       "      <td>0.113870</td>\n",
       "      <td>0.113926</td>\n",
       "      <td>0.113916</td>\n",
       "      <td>0.113936</td>\n",
       "      <td>0.114262</td>\n",
       "      <td>0.114440</td>\n",
       "    </tr>\n",
       "    <tr>\n",
       "      <th>3</th>\n",
       "      <td>0.112075</td>\n",
       "      <td>0.112142</td>\n",
       "      <td>0.112025</td>\n",
       "      <td>0.111811</td>\n",
       "      <td>0.111730</td>\n",
       "      <td>0.111501</td>\n",
       "      <td>0.111328</td>\n",
       "      <td>0.111211</td>\n",
       "      <td>0.110957</td>\n",
       "      <td>0.110921</td>\n",
       "      <td>...</td>\n",
       "      <td>0.113794</td>\n",
       "      <td>0.113758</td>\n",
       "      <td>0.113921</td>\n",
       "      <td>0.113870</td>\n",
       "      <td>0.113926</td>\n",
       "      <td>0.113916</td>\n",
       "      <td>0.113936</td>\n",
       "      <td>0.114262</td>\n",
       "      <td>0.114440</td>\n",
       "      <td>0.114694</td>\n",
       "    </tr>\n",
       "    <tr>\n",
       "      <th>4</th>\n",
       "      <td>0.112142</td>\n",
       "      <td>0.112025</td>\n",
       "      <td>0.111811</td>\n",
       "      <td>0.111730</td>\n",
       "      <td>0.111501</td>\n",
       "      <td>0.111328</td>\n",
       "      <td>0.111211</td>\n",
       "      <td>0.110957</td>\n",
       "      <td>0.110921</td>\n",
       "      <td>0.110835</td>\n",
       "      <td>...</td>\n",
       "      <td>0.113758</td>\n",
       "      <td>0.113921</td>\n",
       "      <td>0.113870</td>\n",
       "      <td>0.113926</td>\n",
       "      <td>0.113916</td>\n",
       "      <td>0.113936</td>\n",
       "      <td>0.114262</td>\n",
       "      <td>0.114440</td>\n",
       "      <td>0.114694</td>\n",
       "      <td>0.114353</td>\n",
       "    </tr>\n",
       "    <tr>\n",
       "      <th>...</th>\n",
       "      <td>...</td>\n",
       "      <td>...</td>\n",
       "      <td>...</td>\n",
       "      <td>...</td>\n",
       "      <td>...</td>\n",
       "      <td>...</td>\n",
       "      <td>...</td>\n",
       "      <td>...</td>\n",
       "      <td>...</td>\n",
       "      <td>...</td>\n",
       "      <td>...</td>\n",
       "      <td>...</td>\n",
       "      <td>...</td>\n",
       "      <td>...</td>\n",
       "      <td>...</td>\n",
       "      <td>...</td>\n",
       "      <td>...</td>\n",
       "      <td>...</td>\n",
       "      <td>...</td>\n",
       "      <td>...</td>\n",
       "      <td>...</td>\n",
       "    </tr>\n",
       "    <tr>\n",
       "      <th>391923</th>\n",
       "      <td>0.479539</td>\n",
       "      <td>0.479285</td>\n",
       "      <td>0.479234</td>\n",
       "      <td>0.478776</td>\n",
       "      <td>0.478878</td>\n",
       "      <td>0.478878</td>\n",
       "      <td>0.478776</td>\n",
       "      <td>0.478522</td>\n",
       "      <td>0.477912</td>\n",
       "      <td>0.477759</td>\n",
       "      <td>...</td>\n",
       "      <td>0.484470</td>\n",
       "      <td>0.484521</td>\n",
       "      <td>0.484064</td>\n",
       "      <td>0.484115</td>\n",
       "      <td>0.484623</td>\n",
       "      <td>0.484623</td>\n",
       "      <td>0.484267</td>\n",
       "      <td>0.484623</td>\n",
       "      <td>0.484572</td>\n",
       "      <td>0.484165</td>\n",
       "    </tr>\n",
       "    <tr>\n",
       "      <th>391924</th>\n",
       "      <td>0.479285</td>\n",
       "      <td>0.479234</td>\n",
       "      <td>0.478776</td>\n",
       "      <td>0.478878</td>\n",
       "      <td>0.478878</td>\n",
       "      <td>0.478776</td>\n",
       "      <td>0.478522</td>\n",
       "      <td>0.477912</td>\n",
       "      <td>0.477759</td>\n",
       "      <td>0.478115</td>\n",
       "      <td>...</td>\n",
       "      <td>0.484521</td>\n",
       "      <td>0.484064</td>\n",
       "      <td>0.484115</td>\n",
       "      <td>0.484623</td>\n",
       "      <td>0.484623</td>\n",
       "      <td>0.484267</td>\n",
       "      <td>0.484623</td>\n",
       "      <td>0.484572</td>\n",
       "      <td>0.484165</td>\n",
       "      <td>0.484013</td>\n",
       "    </tr>\n",
       "    <tr>\n",
       "      <th>391925</th>\n",
       "      <td>0.479234</td>\n",
       "      <td>0.478776</td>\n",
       "      <td>0.478878</td>\n",
       "      <td>0.478878</td>\n",
       "      <td>0.478776</td>\n",
       "      <td>0.478522</td>\n",
       "      <td>0.477912</td>\n",
       "      <td>0.477759</td>\n",
       "      <td>0.478115</td>\n",
       "      <td>0.477861</td>\n",
       "      <td>...</td>\n",
       "      <td>0.484064</td>\n",
       "      <td>0.484115</td>\n",
       "      <td>0.484623</td>\n",
       "      <td>0.484623</td>\n",
       "      <td>0.484267</td>\n",
       "      <td>0.484623</td>\n",
       "      <td>0.484572</td>\n",
       "      <td>0.484165</td>\n",
       "      <td>0.484013</td>\n",
       "      <td>0.483606</td>\n",
       "    </tr>\n",
       "    <tr>\n",
       "      <th>391926</th>\n",
       "      <td>0.478776</td>\n",
       "      <td>0.478878</td>\n",
       "      <td>0.478878</td>\n",
       "      <td>0.478776</td>\n",
       "      <td>0.478522</td>\n",
       "      <td>0.477912</td>\n",
       "      <td>0.477759</td>\n",
       "      <td>0.478115</td>\n",
       "      <td>0.477861</td>\n",
       "      <td>0.478369</td>\n",
       "      <td>...</td>\n",
       "      <td>0.484115</td>\n",
       "      <td>0.484623</td>\n",
       "      <td>0.484623</td>\n",
       "      <td>0.484267</td>\n",
       "      <td>0.484623</td>\n",
       "      <td>0.484572</td>\n",
       "      <td>0.484165</td>\n",
       "      <td>0.484013</td>\n",
       "      <td>0.483606</td>\n",
       "      <td>0.483911</td>\n",
       "    </tr>\n",
       "    <tr>\n",
       "      <th>391927</th>\n",
       "      <td>0.478878</td>\n",
       "      <td>0.478878</td>\n",
       "      <td>0.478776</td>\n",
       "      <td>0.478522</td>\n",
       "      <td>0.477912</td>\n",
       "      <td>0.477759</td>\n",
       "      <td>0.478115</td>\n",
       "      <td>0.477861</td>\n",
       "      <td>0.478369</td>\n",
       "      <td>0.478115</td>\n",
       "      <td>...</td>\n",
       "      <td>0.484623</td>\n",
       "      <td>0.484623</td>\n",
       "      <td>0.484267</td>\n",
       "      <td>0.484623</td>\n",
       "      <td>0.484572</td>\n",
       "      <td>0.484165</td>\n",
       "      <td>0.484013</td>\n",
       "      <td>0.483606</td>\n",
       "      <td>0.483911</td>\n",
       "      <td>0.484216</td>\n",
       "    </tr>\n",
       "  </tbody>\n",
       "</table>\n",
       "<p>391928 rows × 200 columns</p>\n",
       "</div>"
      ],
      "text/plain": [
       "             0         1         2         3         4         5         6    \\\n",
       "0       0.111613  0.112172  0.112131  0.112075  0.112142  0.112025  0.111811   \n",
       "1       0.112172  0.112131  0.112075  0.112142  0.112025  0.111811  0.111730   \n",
       "2       0.112131  0.112075  0.112142  0.112025  0.111811  0.111730  0.111501   \n",
       "3       0.112075  0.112142  0.112025  0.111811  0.111730  0.111501  0.111328   \n",
       "4       0.112142  0.112025  0.111811  0.111730  0.111501  0.111328  0.111211   \n",
       "...          ...       ...       ...       ...       ...       ...       ...   \n",
       "391923  0.479539  0.479285  0.479234  0.478776  0.478878  0.478878  0.478776   \n",
       "391924  0.479285  0.479234  0.478776  0.478878  0.478878  0.478776  0.478522   \n",
       "391925  0.479234  0.478776  0.478878  0.478878  0.478776  0.478522  0.477912   \n",
       "391926  0.478776  0.478878  0.478878  0.478776  0.478522  0.477912  0.477759   \n",
       "391927  0.478878  0.478878  0.478776  0.478522  0.477912  0.477759  0.478115   \n",
       "\n",
       "             7         8         9    ...       190       191       192  \\\n",
       "0       0.111730  0.111501  0.111328  ...  0.113789  0.113860  0.113835   \n",
       "1       0.111501  0.111328  0.111211  ...  0.113860  0.113835  0.113794   \n",
       "2       0.111328  0.111211  0.110957  ...  0.113835  0.113794  0.113758   \n",
       "3       0.111211  0.110957  0.110921  ...  0.113794  0.113758  0.113921   \n",
       "4       0.110957  0.110921  0.110835  ...  0.113758  0.113921  0.113870   \n",
       "...          ...       ...       ...  ...       ...       ...       ...   \n",
       "391923  0.478522  0.477912  0.477759  ...  0.484470  0.484521  0.484064   \n",
       "391924  0.477912  0.477759  0.478115  ...  0.484521  0.484064  0.484115   \n",
       "391925  0.477759  0.478115  0.477861  ...  0.484064  0.484115  0.484623   \n",
       "391926  0.478115  0.477861  0.478369  ...  0.484115  0.484623  0.484623   \n",
       "391927  0.477861  0.478369  0.478115  ...  0.484623  0.484623  0.484267   \n",
       "\n",
       "             193       194       195       196       197       198       199  \n",
       "0       0.113794  0.113758  0.113921  0.113870  0.113926  0.113916  0.113936  \n",
       "1       0.113758  0.113921  0.113870  0.113926  0.113916  0.113936  0.114262  \n",
       "2       0.113921  0.113870  0.113926  0.113916  0.113936  0.114262  0.114440  \n",
       "3       0.113870  0.113926  0.113916  0.113936  0.114262  0.114440  0.114694  \n",
       "4       0.113926  0.113916  0.113936  0.114262  0.114440  0.114694  0.114353  \n",
       "...          ...       ...       ...       ...       ...       ...       ...  \n",
       "391923  0.484115  0.484623  0.484623  0.484267  0.484623  0.484572  0.484165  \n",
       "391924  0.484623  0.484623  0.484267  0.484623  0.484572  0.484165  0.484013  \n",
       "391925  0.484623  0.484267  0.484623  0.484572  0.484165  0.484013  0.483606  \n",
       "391926  0.484267  0.484623  0.484572  0.484165  0.484013  0.483606  0.483911  \n",
       "391927  0.484623  0.484572  0.484165  0.484013  0.483606  0.483911  0.484216  \n",
       "\n",
       "[391928 rows x 200 columns]"
      ]
     },
     "execution_count": 17,
     "metadata": {},
     "output_type": "execute_result"
    }
   ],
   "source": [
    "for i in range(length-1):\n",
    "    df2 = df[i+1:i+1-length]\n",
    "    df2 = np.array([np.array(df2)]).T\n",
    "    df4 = np.concatenate((df4,df2),axis=1)\n",
    "x = pd.DataFrame(df4)\n",
    "x"
   ]
  },
  {
   "cell_type": "code",
   "execution_count": 18,
   "id": "748447cd",
   "metadata": {},
   "outputs": [],
   "source": [
    "y = df[length:].values\n",
    "X = x.values"
   ]
  },
  {
   "cell_type": "code",
   "execution_count": 19,
   "id": "b19d4d5e",
   "metadata": {},
   "outputs": [
    {
     "name": "stdout",
     "output_type": "stream",
     "text": [
      "(388008, 200)\n",
      "(3920, 200)\n"
     ]
    }
   ],
   "source": [
    "X_train, X_test, y_train, y_test = train_test_split(X, y, test_size=0.01,shuffle = False)\n",
    "print(X_train.shape)\n",
    "print(X_test.shape)"
   ]
  },
  {
   "cell_type": "code",
   "execution_count": 20,
   "id": "c1d697b9",
   "metadata": {},
   "outputs": [],
   "source": [
    "model = Sequential()\n",
    "model.add(Dense(100, activation='linear', input_dim = X.shape[1]))\n",
    "model.add(Dense(100, activation='linear'))\n",
    "model.add(Dense(100, activation='linear'))\n",
    "model.add(Dense(100, activation='linear'))\n",
    "model.add(Dense(100, activation='linear'))\n",
    "model.add(Dense(50, activation='linear'))\n",
    "model.add(Dense(50, activation='linear'))\n",
    "model.add(Dense(50, activation='linear'))\n",
    "model.add(Dense(1, activation='linear'))\n",
    "# Compile the model\n",
    "model.compile(optimizer='adam',loss='mse',metrics=['accuracy'])"
   ]
  },
  {
   "cell_type": "code",
   "execution_count": 21,
   "id": "51aa7227",
   "metadata": {
    "scrolled": true
   },
   "outputs": [
    {
     "name": "stdout",
     "output_type": "stream",
     "text": [
      "Epoch 1/30\n",
      " 44192/388008 [==>...........................] - ETA: 2:21 - loss: 0.0146 - accuracy: 0.0000e+00"
     ]
    },
    {
     "ename": "KeyboardInterrupt",
     "evalue": "",
     "output_type": "error",
     "traceback": [
      "\u001b[0;31m---------------------------------------------------------------------------\u001b[0m",
      "\u001b[0;31mKeyboardInterrupt\u001b[0m                         Traceback (most recent call last)",
      "\u001b[0;32m/var/folders/yy/95rx0nm12jqc32p5svcxxv7h0000gn/T/ipykernel_6634/2351885313.py\u001b[0m in \u001b[0;36m<module>\u001b[0;34m\u001b[0m\n\u001b[0;32m----> 1\u001b[0;31m \u001b[0mmodel\u001b[0m\u001b[0;34m.\u001b[0m\u001b[0mfit\u001b[0m\u001b[0;34m(\u001b[0m\u001b[0mX_train\u001b[0m\u001b[0;34m,\u001b[0m \u001b[0my_train\u001b[0m\u001b[0;34m,\u001b[0m \u001b[0mepochs\u001b[0m\u001b[0;34m=\u001b[0m\u001b[0;36m30\u001b[0m\u001b[0;34m)\u001b[0m\u001b[0;34m\u001b[0m\u001b[0;34m\u001b[0m\u001b[0m\n\u001b[0m",
      "\u001b[0;32m~/opt/anaconda3/lib/python3.7/site-packages/keras/engine/training.py\u001b[0m in \u001b[0;36mfit\u001b[0;34m(self, x, y, batch_size, epochs, verbose, callbacks, validation_split, validation_data, shuffle, class_weight, sample_weight, initial_epoch, steps_per_epoch, validation_steps, validation_freq, max_queue_size, workers, use_multiprocessing, **kwargs)\u001b[0m\n\u001b[1;32m   1237\u001b[0m                                         \u001b[0msteps_per_epoch\u001b[0m\u001b[0;34m=\u001b[0m\u001b[0msteps_per_epoch\u001b[0m\u001b[0;34m,\u001b[0m\u001b[0;34m\u001b[0m\u001b[0;34m\u001b[0m\u001b[0m\n\u001b[1;32m   1238\u001b[0m                                         \u001b[0mvalidation_steps\u001b[0m\u001b[0;34m=\u001b[0m\u001b[0mvalidation_steps\u001b[0m\u001b[0;34m,\u001b[0m\u001b[0;34m\u001b[0m\u001b[0;34m\u001b[0m\u001b[0m\n\u001b[0;32m-> 1239\u001b[0;31m                                         validation_freq=validation_freq)\n\u001b[0m\u001b[1;32m   1240\u001b[0m \u001b[0;34m\u001b[0m\u001b[0m\n\u001b[1;32m   1241\u001b[0m     def evaluate(self,\n",
      "\u001b[0;32m~/opt/anaconda3/lib/python3.7/site-packages/keras/engine/training_arrays.py\u001b[0m in \u001b[0;36mfit_loop\u001b[0;34m(model, fit_function, fit_inputs, out_labels, batch_size, epochs, verbose, callbacks, val_function, val_inputs, shuffle, initial_epoch, steps_per_epoch, validation_steps, validation_freq)\u001b[0m\n\u001b[1;32m    184\u001b[0m                             fit_inputs[:-1], batch_ids) + [fit_inputs[-1]]\n\u001b[1;32m    185\u001b[0m                     \u001b[0;32melse\u001b[0m\u001b[0;34m:\u001b[0m\u001b[0;34m\u001b[0m\u001b[0;34m\u001b[0m\u001b[0m\n\u001b[0;32m--> 186\u001b[0;31m                         \u001b[0mins_batch\u001b[0m \u001b[0;34m=\u001b[0m \u001b[0mslice_arrays\u001b[0m\u001b[0;34m(\u001b[0m\u001b[0mfit_inputs\u001b[0m\u001b[0;34m,\u001b[0m \u001b[0mbatch_ids\u001b[0m\u001b[0;34m)\u001b[0m\u001b[0;34m\u001b[0m\u001b[0;34m\u001b[0m\u001b[0m\n\u001b[0m\u001b[1;32m    187\u001b[0m                 \u001b[0;32mexcept\u001b[0m \u001b[0mTypeError\u001b[0m\u001b[0;34m:\u001b[0m\u001b[0;34m\u001b[0m\u001b[0;34m\u001b[0m\u001b[0m\n\u001b[1;32m    188\u001b[0m                     raise TypeError('TypeError while preparing batch. '\n",
      "\u001b[0;32m~/opt/anaconda3/lib/python3.7/site-packages/keras/utils/generic_utils.py\u001b[0m in \u001b[0;36mslice_arrays\u001b[0;34m(arrays, start, stop)\u001b[0m\n\u001b[1;32m    553\u001b[0m             \u001b[0;32mif\u001b[0m \u001b[0mhasattr\u001b[0m\u001b[0;34m(\u001b[0m\u001b[0mstart\u001b[0m\u001b[0;34m,\u001b[0m \u001b[0;34m'shape'\u001b[0m\u001b[0;34m)\u001b[0m\u001b[0;34m:\u001b[0m\u001b[0;34m\u001b[0m\u001b[0;34m\u001b[0m\u001b[0m\n\u001b[1;32m    554\u001b[0m                 \u001b[0mstart\u001b[0m \u001b[0;34m=\u001b[0m \u001b[0mstart\u001b[0m\u001b[0;34m.\u001b[0m\u001b[0mtolist\u001b[0m\u001b[0;34m(\u001b[0m\u001b[0;34m)\u001b[0m\u001b[0;34m\u001b[0m\u001b[0;34m\u001b[0m\u001b[0m\n\u001b[0;32m--> 555\u001b[0;31m             \u001b[0;32mreturn\u001b[0m \u001b[0;34m[\u001b[0m\u001b[0;32mNone\u001b[0m \u001b[0;32mif\u001b[0m \u001b[0mx\u001b[0m \u001b[0;32mis\u001b[0m \u001b[0;32mNone\u001b[0m \u001b[0;32melse\u001b[0m \u001b[0mx\u001b[0m\u001b[0;34m[\u001b[0m\u001b[0mstart\u001b[0m\u001b[0;34m]\u001b[0m \u001b[0;32mfor\u001b[0m \u001b[0mx\u001b[0m \u001b[0;32min\u001b[0m \u001b[0marrays\u001b[0m\u001b[0;34m]\u001b[0m\u001b[0;34m\u001b[0m\u001b[0;34m\u001b[0m\u001b[0m\n\u001b[0m\u001b[1;32m    556\u001b[0m         \u001b[0;32melse\u001b[0m\u001b[0;34m:\u001b[0m\u001b[0;34m\u001b[0m\u001b[0;34m\u001b[0m\u001b[0m\n\u001b[1;32m    557\u001b[0m             \u001b[0;32mreturn\u001b[0m \u001b[0;34m[\u001b[0m\u001b[0;32mNone\u001b[0m \u001b[0;32mif\u001b[0m \u001b[0mx\u001b[0m \u001b[0;32mis\u001b[0m \u001b[0;32mNone\u001b[0m \u001b[0;32melse\u001b[0m \u001b[0mx\u001b[0m\u001b[0;34m[\u001b[0m\u001b[0mstart\u001b[0m\u001b[0;34m:\u001b[0m\u001b[0mstop\u001b[0m\u001b[0;34m]\u001b[0m \u001b[0;32mfor\u001b[0m \u001b[0mx\u001b[0m \u001b[0;32min\u001b[0m \u001b[0marrays\u001b[0m\u001b[0;34m]\u001b[0m\u001b[0;34m\u001b[0m\u001b[0;34m\u001b[0m\u001b[0m\n",
      "\u001b[0;32m~/opt/anaconda3/lib/python3.7/site-packages/keras/utils/generic_utils.py\u001b[0m in \u001b[0;36m<listcomp>\u001b[0;34m(.0)\u001b[0m\n\u001b[1;32m    553\u001b[0m             \u001b[0;32mif\u001b[0m \u001b[0mhasattr\u001b[0m\u001b[0;34m(\u001b[0m\u001b[0mstart\u001b[0m\u001b[0;34m,\u001b[0m \u001b[0;34m'shape'\u001b[0m\u001b[0;34m)\u001b[0m\u001b[0;34m:\u001b[0m\u001b[0;34m\u001b[0m\u001b[0;34m\u001b[0m\u001b[0m\n\u001b[1;32m    554\u001b[0m                 \u001b[0mstart\u001b[0m \u001b[0;34m=\u001b[0m \u001b[0mstart\u001b[0m\u001b[0;34m.\u001b[0m\u001b[0mtolist\u001b[0m\u001b[0;34m(\u001b[0m\u001b[0;34m)\u001b[0m\u001b[0;34m\u001b[0m\u001b[0;34m\u001b[0m\u001b[0m\n\u001b[0;32m--> 555\u001b[0;31m             \u001b[0;32mreturn\u001b[0m \u001b[0;34m[\u001b[0m\u001b[0;32mNone\u001b[0m \u001b[0;32mif\u001b[0m \u001b[0mx\u001b[0m \u001b[0;32mis\u001b[0m \u001b[0;32mNone\u001b[0m \u001b[0;32melse\u001b[0m \u001b[0mx\u001b[0m\u001b[0;34m[\u001b[0m\u001b[0mstart\u001b[0m\u001b[0;34m]\u001b[0m \u001b[0;32mfor\u001b[0m \u001b[0mx\u001b[0m \u001b[0;32min\u001b[0m \u001b[0marrays\u001b[0m\u001b[0;34m]\u001b[0m\u001b[0;34m\u001b[0m\u001b[0;34m\u001b[0m\u001b[0m\n\u001b[0m\u001b[1;32m    556\u001b[0m         \u001b[0;32melse\u001b[0m\u001b[0;34m:\u001b[0m\u001b[0;34m\u001b[0m\u001b[0;34m\u001b[0m\u001b[0m\n\u001b[1;32m    557\u001b[0m             \u001b[0;32mreturn\u001b[0m \u001b[0;34m[\u001b[0m\u001b[0;32mNone\u001b[0m \u001b[0;32mif\u001b[0m \u001b[0mx\u001b[0m \u001b[0;32mis\u001b[0m \u001b[0;32mNone\u001b[0m \u001b[0;32melse\u001b[0m \u001b[0mx\u001b[0m\u001b[0;34m[\u001b[0m\u001b[0mstart\u001b[0m\u001b[0;34m:\u001b[0m\u001b[0mstop\u001b[0m\u001b[0;34m]\u001b[0m \u001b[0;32mfor\u001b[0m \u001b[0mx\u001b[0m \u001b[0;32min\u001b[0m \u001b[0marrays\u001b[0m\u001b[0;34m]\u001b[0m\u001b[0;34m\u001b[0m\u001b[0;34m\u001b[0m\u001b[0m\n",
      "\u001b[0;31mKeyboardInterrupt\u001b[0m: "
     ]
    }
   ],
   "source": [
    "model.fit(X_train, y_train, epochs=30)"
   ]
  },
  {
   "cell_type": "code",
   "execution_count": 10,
   "id": "1e4824d0",
   "metadata": {},
   "outputs": [
    {
     "name": "stdout",
     "output_type": "stream",
     "text": [
      "Accuracy on training data: 2.577266513981158e-06% \n",
      " Error on training data: 0.999997422733486\n",
      "Accuracy on test data: 0.0% \n",
      " Error on test data: 1.0\n"
     ]
    }
   ],
   "source": [
    "pred_train = model.predict(X_train)\n",
    "scores = model.evaluate(X_train, y_train, verbose=0)\n",
    "print('Accuracy on training data: {}% \\n Error on training data: {}'.format(scores[1], 1 - scores[1]))   \n",
    " \n",
    "pred_test= model.predict(X_test)\n",
    "scores2 = model.evaluate(X_test, y_test, verbose=0)\n",
    "print('Accuracy on test data: {}% \\n Error on test data: {}'.format(scores2[1], 1 - scores2[1]))    "
   ]
  },
  {
   "cell_type": "code",
   "execution_count": 24,
   "id": "a6160da8",
   "metadata": {},
   "outputs": [
    {
     "data": {
      "image/png": "[encoded data removed]",
      "text/plain": [
       "<Figure size 432x288 with 1 Axes>"
      ]
     },
     "metadata": {
      "needs_background": "light"
     },
     "output_type": "display_data"
    }
   ],
   "source": [
    "import matplotlib.pyplot as plt\n",
    "plt.plot(pred_test[2500:2600],color=\"r\")\n",
    "plt.plot(y_test[2500:2600])\n",
    "#plt.plot(pred_test+0.0 085,color='r')\n",
    "#plt.plot(y_test)\n",
    "plt.show()"
   ]
  },
  {
   "cell_type": "code",
   "execution_count": 12,
   "id": "44dd358d",
   "metadata": {},
   "outputs": [
    {
     "data": {
      "text/plain": [
       "0       0.484979\n",
       "1       0.485284\n",
       "2       0.485589\n",
       "3       0.486453\n",
       "4       0.486504\n",
       "          ...   \n",
       "1435    0.530228\n",
       "1436    0.530228\n",
       "1437    0.530228\n",
       "1438    0.530279\n",
       "1439    0.530177\n",
       "Name: High, Length: 1440, dtype: float64"
      ]
     },
     "execution_count": 12,
     "metadata": {},
     "output_type": "execute_result"
    }
   ],
   "source": [
    "df1 = pd.read_csv(\"merged_2021.csv\")\n",
    "df1 = df1[\"High\"]\n",
    "df2 = pd.read_csv(\"XRPUSDT-1m-2021-10-01.csv\")\n",
    "df2 = df2[\"High\"]\n",
    "df2 = df2/df1.max()\n",
    "df2"
   ]
  },
  {
   "cell_type": "code",
   "execution_count": 13,
   "id": "8b9c63d6",
   "metadata": {},
   "outputs": [
    {
     "data": {
      "text/plain": [
       "(388008, 200)"
      ]
     },
     "execution_count": 13,
     "metadata": {},
     "output_type": "execute_result"
    }
   ],
   "source": [
    "X_train.shape"
   ]
  },
  {
   "cell_type": "code",
   "execution_count": 14,
   "id": "9c6dcba9",
   "metadata": {
    "scrolled": false
   },
   "outputs": [
    {
     "data": {
      "text/plain": [
       "array([0.48497882, 0.48528387, 0.48558892, ..., 0.53022792, 0.53027876,\n",
       "       0.53017708])"
      ]
     },
     "execution_count": 14,
     "metadata": {},
     "output_type": "execute_result"
    }
   ],
   "source": [
    "dfa = np.array(df2)\n",
    "dfa"
   ]
  },
  {
   "cell_type": "code",
   "execution_count": 15,
   "id": "45e650ff",
   "metadata": {},
   "outputs": [],
   "source": [
    "for i in range(df2.shape[0]-length):\n",
    "    dfa[i+length] = model.predict(np.array([dfa[i:length+i]]))[0]"
   ]
  },
  {
   "cell_type": "code",
   "execution_count": 21,
   "id": "da19570a",
   "metadata": {},
   "outputs": [
    {
     "data": {
      "image/png": "[encoded data removed]",
      "text/plain": [
       "<Figure size 432x288 with 1 Axes>"
      ]
     },
     "metadata": {
      "needs_background": "light"
     },
     "output_type": "display_data"
    }
   ],
   "source": [
    "dfk = pd.DataFrame(dfa)\n",
    "plt.plot(dfk[190:250])\n",
    "plt.plot(df2[190:250],color = \"r\")\n",
    "plt.show()"
   ]
  },
  {
   "cell_type": "code",
   "execution_count": null,
   "id": "61c0d9c5",
   "metadata": {},
   "outputs": [],
   "source": []
  }
 ],
 "metadata": {
  "kernelspec": {
   "display_name": "Python 3 (ipykernel)",
   "language": "python",
   "name": "python3"
  },
  "language_info": {
   "codemirror_mode": {
    "name": "ipython",
    "version": 3
   },
   "file_extension": ".py",
   "mimetype": "text/x-python",
   "name": "python",
   "nbconvert_exporter": "python",
   "pygments_lexer": "ipython3",
   "version": "3.7.11"
  }
 },
 "nbformat": 4,
 "nbformat_minor": 5
}
