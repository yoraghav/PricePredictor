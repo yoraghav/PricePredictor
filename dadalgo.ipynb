{
 "cells": [
  {
   "cell_type": "code",
   "execution_count": 92,
   "id": "8add26d1",
   "metadata": {},
   "outputs": [],
   "source": [
    "import numpy as np\n",
    "import matplotlib.pyplot as plt\n",
    "import pandas as pd\n",
    "import arrow\n",
    "import datetime\n",
    "import requests\n",
    "import csv\n",
    "from IPython.display import clear_output\n",
    "import datetime"
   ]
  },
  {
   "cell_type": "code",
   "execution_count": 93,
   "id": "0bdf03b9",
   "metadata": {},
   "outputs": [
    {
     "name": "stdout",
     "output_type": "stream",
     "text": [
      "2021-09-09 10:43:26\n"
     ]
    }
   ],
   "source": [
    "print(datetime.datetime.fromtimestamp(1631164406))"
   ]
  },
  {
   "cell_type": "code",
   "execution_count": 94,
   "id": "0059d71b",
   "metadata": {},
   "outputs": [
    {
     "data": {
      "text/html": [
       "<div>\n",
       "<style scoped>\n",
       "    .dataframe tbody tr th:only-of-type {\n",
       "        vertical-align: middle;\n",
       "    }\n",
       "\n",
       "    .dataframe tbody tr th {\n",
       "        vertical-align: top;\n",
       "    }\n",
       "\n",
       "    .dataframe thead th {\n",
       "        text-align: right;\n",
       "    }\n",
       "</style>\n",
       "<table border=\"1\" class=\"dataframe\">\n",
       "  <thead>\n",
       "    <tr style=\"text-align: right;\">\n",
       "      <th></th>\n",
       "      <th>Time</th>\n",
       "      <th>Open</th>\n",
       "      <th>High</th>\n",
       "      <th>Low</th>\n",
       "      <th>Close</th>\n",
       "      <th>Volume</th>\n",
       "    </tr>\n",
       "  </thead>\n",
       "  <tbody>\n",
       "    <tr>\n",
       "      <th>0</th>\n",
       "      <td>162777600.0</td>\n",
       "      <td>0.7461</td>\n",
       "      <td>0.7469</td>\n",
       "      <td>0.7456</td>\n",
       "      <td>0.7459</td>\n",
       "      <td>0.607227</td>\n",
       "    </tr>\n",
       "    <tr>\n",
       "      <th>1</th>\n",
       "      <td>162777606.0</td>\n",
       "      <td>0.7460</td>\n",
       "      <td>0.7465</td>\n",
       "      <td>0.7431</td>\n",
       "      <td>0.7433</td>\n",
       "      <td>0.744343</td>\n",
       "    </tr>\n",
       "    <tr>\n",
       "      <th>2</th>\n",
       "      <td>162777612.0</td>\n",
       "      <td>0.7433</td>\n",
       "      <td>0.7438</td>\n",
       "      <td>0.7403</td>\n",
       "      <td>0.7412</td>\n",
       "      <td>1.562069</td>\n",
       "    </tr>\n",
       "    <tr>\n",
       "      <th>3</th>\n",
       "      <td>162777618.0</td>\n",
       "      <td>0.7413</td>\n",
       "      <td>0.7425</td>\n",
       "      <td>0.7402</td>\n",
       "      <td>0.7425</td>\n",
       "      <td>1.069950</td>\n",
       "    </tr>\n",
       "    <tr>\n",
       "      <th>4</th>\n",
       "      <td>162777624.0</td>\n",
       "      <td>0.7424</td>\n",
       "      <td>0.7445</td>\n",
       "      <td>0.7420</td>\n",
       "      <td>0.7444</td>\n",
       "      <td>0.524462</td>\n",
       "    </tr>\n",
       "    <tr>\n",
       "      <th>...</th>\n",
       "      <td>...</td>\n",
       "      <td>...</td>\n",
       "      <td>...</td>\n",
       "      <td>...</td>\n",
       "      <td>...</td>\n",
       "      <td>...</td>\n",
       "    </tr>\n",
       "    <tr>\n",
       "      <th>44365</th>\n",
       "      <td>163045410.0</td>\n",
       "      <td>1.1977</td>\n",
       "      <td>1.1978</td>\n",
       "      <td>1.1939</td>\n",
       "      <td>1.1942</td>\n",
       "      <td>0.466049</td>\n",
       "    </tr>\n",
       "    <tr>\n",
       "      <th>44366</th>\n",
       "      <td>163045416.0</td>\n",
       "      <td>1.1941</td>\n",
       "      <td>1.1941</td>\n",
       "      <td>1.1901</td>\n",
       "      <td>1.1903</td>\n",
       "      <td>0.651525</td>\n",
       "    </tr>\n",
       "    <tr>\n",
       "      <th>44367</th>\n",
       "      <td>163045422.0</td>\n",
       "      <td>1.1907</td>\n",
       "      <td>1.1907</td>\n",
       "      <td>1.1870</td>\n",
       "      <td>1.1874</td>\n",
       "      <td>0.582666</td>\n",
       "    </tr>\n",
       "    <tr>\n",
       "      <th>44368</th>\n",
       "      <td>163045428.0</td>\n",
       "      <td>1.1875</td>\n",
       "      <td>1.1877</td>\n",
       "      <td>1.1847</td>\n",
       "      <td>1.1867</td>\n",
       "      <td>0.585092</td>\n",
       "    </tr>\n",
       "    <tr>\n",
       "      <th>44369</th>\n",
       "      <td>163045434.0</td>\n",
       "      <td>1.1866</td>\n",
       "      <td>1.1872</td>\n",
       "      <td>1.1855</td>\n",
       "      <td>1.1856</td>\n",
       "      <td>0.304742</td>\n",
       "    </tr>\n",
       "  </tbody>\n",
       "</table>\n",
       "<p>44370 rows × 6 columns</p>\n",
       "</div>"
      ],
      "text/plain": [
       "              Time    Open    High     Low   Close    Volume\n",
       "0      162777600.0  0.7461  0.7469  0.7456  0.7459  0.607227\n",
       "1      162777606.0  0.7460  0.7465  0.7431  0.7433  0.744343\n",
       "2      162777612.0  0.7433  0.7438  0.7403  0.7412  1.562069\n",
       "3      162777618.0  0.7413  0.7425  0.7402  0.7425  1.069950\n",
       "4      162777624.0  0.7424  0.7445  0.7420  0.7444  0.524462\n",
       "...            ...     ...     ...     ...     ...       ...\n",
       "44365  163045410.0  1.1977  1.1978  1.1939  1.1942  0.466049\n",
       "44366  163045416.0  1.1941  1.1941  1.1901  1.1903  0.651525\n",
       "44367  163045422.0  1.1907  1.1907  1.1870  1.1874  0.582666\n",
       "44368  163045428.0  1.1875  1.1877  1.1847  1.1867  0.585092\n",
       "44369  163045434.0  1.1866  1.1872  1.1855  1.1856  0.304742\n",
       "\n",
       "[44370 rows x 6 columns]"
      ]
     },
     "execution_count": 94,
     "metadata": {},
     "output_type": "execute_result"
    }
   ],
   "source": [
    "data = pd.read_csv(\"XRPUSDT-8.csv\")\n",
    "#data = pd.read_csv(\"BTC_1min_sample.txt\",delimiter=',')\n",
    "data[\"Volume\"] /= 1000000\n",
    "k = \"Time\"\n",
    "data[k] /= 10000\n",
    "#k = datetime.datetime.fromtimestamp(data[\"Time\"])\n",
    "#data[\"Open\"] /= 100000\n",
    "#data[\"Close\"] /= 100000\n",
    "#data[\"Low\"] /= 100000\n",
    "#data[\"High\"] /= 100000\n",
    "#data.loc[data[\"High\"].isnull(),\"High\"] \n",
    "#data[\"High\"][data.loc[data[\"High\"].isnull(),\"High\"].index - 1]\n",
    "#data.loc[data[\"Open\"].isnull()]\n",
    "#data.loc[138]  = data.loc[137]\n",
    "#data.loc[313]  = data.loc[312]\n",
    "#data.loc[316]  = data.loc[315]\n",
    "#data.loc[317]  = data.loc[318]\n",
    "data"
   ]
  },
  {
   "cell_type": "code",
   "execution_count": 95,
   "id": "521c2051",
   "metadata": {},
   "outputs": [
    {
     "data": {
      "image/png": "[encoded data removed]",
      "text/plain": [
       "<Figure size 432x288 with 1 Axes>"
      ]
     },
     "metadata": {
      "needs_background": "light"
     },
     "output_type": "display_data"
    }
   ],
   "source": [
    "plt.plot(data[\"High\"])\n",
    "plt.show()"
   ]
  },
  {
   "cell_type": "code",
   "execution_count": 96,
   "id": "fca491f6",
   "metadata": {},
   "outputs": [],
   "source": [
    "cm = 16\n",
    "length = 10\n",
    "tl = 44360"
   ]
  },
  {
   "cell_type": "code",
   "execution_count": 97,
   "id": "8f000dbc",
   "metadata": {},
   "outputs": [],
   "source": [
    "def h(X,wh):\n",
    "    high = np.zeros(cm)\n",
    "    for i in range(length):\n",
    "        for j in range(5):\n",
    "            for k in range(cm):\n",
    "                t = wh[i,j]\n",
    "                high[k] +=  t[k] * X[i,j]\n",
    "    high /= (length*5)\n",
    "    return high"
   ]
  },
  {
   "cell_type": "code",
   "execution_count": 98,
   "id": "c8ea9594",
   "metadata": {},
   "outputs": [],
   "source": [
    "def f(council,wc):\n",
    "    yp = 0\n",
    "    for i in range(cm):\n",
    "        yp += wc[i] * council[i]\n",
    "    yp /= cm\n",
    "    return yp"
   ]
  },
  {
   "cell_type": "code",
   "execution_count": 99,
   "id": "3de832d9",
   "metadata": {},
   "outputs": [],
   "source": [
    "#plt.plot(data[\"High\"][300:600])\n",
    "#plt.plot(data[\"Low\"][300:600])\n",
    "#plt.show()"
   ]
  },
  {
   "cell_type": "code",
   "execution_count": 100,
   "id": "7ef71937",
   "metadata": {},
   "outputs": [],
   "source": [
    "def costr(yp,y):\n",
    "    return (yp-y)"
   ]
  },
  {
   "cell_type": "code",
   "execution_count": 101,
   "id": "6320d3e9",
   "metadata": {},
   "outputs": [],
   "source": [
    "def grad(costrr,X,wh):\n",
    "    a = 0.1\n",
    "    t = np.random.rand(length,5,cm)\n",
    "    for i in range(cm):\n",
    "        t[:,:,i] = wh[:,:,i] - (a*costrr*X) \n",
    "    return t"
   ]
  },
  {
   "cell_type": "code",
   "execution_count": 102,
   "id": "d4540527",
   "metadata": {},
   "outputs": [],
   "source": [
    "def grad2(costrr,X,w):\n",
    "    a = 0.1\n",
    "    t = w - a*costrr*X \n",
    "    return t"
   ]
  },
  {
   "cell_type": "code",
   "execution_count": 103,
   "id": "c4b008ab",
   "metadata": {},
   "outputs": [],
   "source": [
    "def wieghts(str):\n",
    "    ans = np.zeros(tl)\n",
    "    wh = np.random.rand(length,5,cm)\n",
    "    council = np.zeros(cm)\n",
    "    wc = np.random.rand(cm)\n",
    "    for i in range(tl):\n",
    "        X = data.iloc[i:length+i,1:]\n",
    "        X = np.array(X)\n",
    "        council = h(X,wh)\n",
    "        ans[i] = f(council,wc)\n",
    "        y = data[str][i+length]\n",
    "        cos = costr(ans[i],y)\n",
    "        wc = grad2(cos,council,wc)\n",
    "        wh = grad(cos,X,wh) \n",
    "        clear_output(wait=True)\n",
    "        print((i*100)/tl , \"  %\")\n",
    "        if(ans[i]>10000):\n",
    "            break\n",
    "    return wh,wc"
   ]
  },
  {
   "cell_type": "code",
   "execution_count": 104,
   "id": "d4f58898",
   "metadata": {
    "scrolled": true
   },
   "outputs": [],
   "source": [
    "#plt.plot(ans[43000:43100])\n",
    "#k = data[\"High\"][43100:43200]\n",
    "#plt.plot(ans)\n",
    "#k = data[\"High\"][length:]\n",
    "#k = np.array(k)\n",
    "#t.plot(k)\n",
    "#plt.show()"
   ]
  },
  {
   "cell_type": "code",
   "execution_count": 105,
   "id": "82c101e3",
   "metadata": {},
   "outputs": [
    {
     "data": {
      "text/html": [
       "<div>\n",
       "<style scoped>\n",
       "    .dataframe tbody tr th:only-of-type {\n",
       "        vertical-align: middle;\n",
       "    }\n",
       "\n",
       "    .dataframe tbody tr th {\n",
       "        vertical-align: top;\n",
       "    }\n",
       "\n",
       "    .dataframe thead th {\n",
       "        text-align: right;\n",
       "    }\n",
       "</style>\n",
       "<table border=\"1\" class=\"dataframe\">\n",
       "  <thead>\n",
       "    <tr style=\"text-align: right;\">\n",
       "      <th></th>\n",
       "      <th>Time</th>\n",
       "      <th>Open</th>\n",
       "      <th>High</th>\n",
       "      <th>Low</th>\n",
       "      <th>Close</th>\n",
       "      <th>Volume</th>\n",
       "    </tr>\n",
       "  </thead>\n",
       "  <tbody>\n",
       "    <tr>\n",
       "      <th>0</th>\n",
       "      <td>1630454400000</td>\n",
       "      <td>1.1856</td>\n",
       "      <td>1.1858</td>\n",
       "      <td>1.1817</td>\n",
       "      <td>1.1819</td>\n",
       "      <td>0.061042</td>\n",
       "    </tr>\n",
       "    <tr>\n",
       "      <th>1</th>\n",
       "      <td>1630454460000</td>\n",
       "      <td>1.1821</td>\n",
       "      <td>1.1841</td>\n",
       "      <td>1.1805</td>\n",
       "      <td>1.1828</td>\n",
       "      <td>0.058697</td>\n",
       "    </tr>\n",
       "    <tr>\n",
       "      <th>2</th>\n",
       "      <td>1630454520000</td>\n",
       "      <td>1.1830</td>\n",
       "      <td>1.1834</td>\n",
       "      <td>1.1765</td>\n",
       "      <td>1.1780</td>\n",
       "      <td>0.136674</td>\n",
       "    </tr>\n",
       "    <tr>\n",
       "      <th>3</th>\n",
       "      <td>1630454580000</td>\n",
       "      <td>1.1778</td>\n",
       "      <td>1.1781</td>\n",
       "      <td>1.1714</td>\n",
       "      <td>1.1745</td>\n",
       "      <td>0.086984</td>\n",
       "    </tr>\n",
       "    <tr>\n",
       "      <th>4</th>\n",
       "      <td>1630454640000</td>\n",
       "      <td>1.1744</td>\n",
       "      <td>1.1829</td>\n",
       "      <td>1.1741</td>\n",
       "      <td>1.1825</td>\n",
       "      <td>0.058820</td>\n",
       "    </tr>\n",
       "    <tr>\n",
       "      <th>...</th>\n",
       "      <td>...</td>\n",
       "      <td>...</td>\n",
       "      <td>...</td>\n",
       "      <td>...</td>\n",
       "      <td>...</td>\n",
       "      <td>...</td>\n",
       "    </tr>\n",
       "    <tr>\n",
       "      <th>1435</th>\n",
       "      <td>1630540500000</td>\n",
       "      <td>1.2336</td>\n",
       "      <td>1.2348</td>\n",
       "      <td>1.2322</td>\n",
       "      <td>1.2331</td>\n",
       "      <td>0.033768</td>\n",
       "    </tr>\n",
       "    <tr>\n",
       "      <th>1436</th>\n",
       "      <td>1630540560000</td>\n",
       "      <td>1.2328</td>\n",
       "      <td>1.2343</td>\n",
       "      <td>1.2325</td>\n",
       "      <td>1.2336</td>\n",
       "      <td>0.020287</td>\n",
       "    </tr>\n",
       "    <tr>\n",
       "      <th>1437</th>\n",
       "      <td>1630540620000</td>\n",
       "      <td>1.2336</td>\n",
       "      <td>1.2350</td>\n",
       "      <td>1.2334</td>\n",
       "      <td>1.2340</td>\n",
       "      <td>0.021955</td>\n",
       "    </tr>\n",
       "    <tr>\n",
       "      <th>1438</th>\n",
       "      <td>1630540680000</td>\n",
       "      <td>1.2339</td>\n",
       "      <td>1.2377</td>\n",
       "      <td>1.2333</td>\n",
       "      <td>1.2377</td>\n",
       "      <td>0.065694</td>\n",
       "    </tr>\n",
       "    <tr>\n",
       "      <th>1439</th>\n",
       "      <td>1630540740000</td>\n",
       "      <td>1.2376</td>\n",
       "      <td>1.2384</td>\n",
       "      <td>1.2361</td>\n",
       "      <td>1.2362</td>\n",
       "      <td>0.039462</td>\n",
       "    </tr>\n",
       "  </tbody>\n",
       "</table>\n",
       "<p>1440 rows × 6 columns</p>\n",
       "</div>"
      ],
      "text/plain": [
       "               Time    Open    High     Low   Close    Volume\n",
       "0     1630454400000  1.1856  1.1858  1.1817  1.1819  0.061042\n",
       "1     1630454460000  1.1821  1.1841  1.1805  1.1828  0.058697\n",
       "2     1630454520000  1.1830  1.1834  1.1765  1.1780  0.136674\n",
       "3     1630454580000  1.1778  1.1781  1.1714  1.1745  0.086984\n",
       "4     1630454640000  1.1744  1.1829  1.1741  1.1825  0.058820\n",
       "...             ...     ...     ...     ...     ...       ...\n",
       "1435  1630540500000  1.2336  1.2348  1.2322  1.2331  0.033768\n",
       "1436  1630540560000  1.2328  1.2343  1.2325  1.2336  0.020287\n",
       "1437  1630540620000  1.2336  1.2350  1.2334  1.2340  0.021955\n",
       "1438  1630540680000  1.2339  1.2377  1.2333  1.2377  0.065694\n",
       "1439  1630540740000  1.2376  1.2384  1.2361  1.2362  0.039462\n",
       "\n",
       "[1440 rows x 6 columns]"
      ]
     },
     "execution_count": 105,
     "metadata": {},
     "output_type": "execute_result"
    }
   ],
   "source": [
    "data2 = pd.read_csv(\"XRPUSDT-1m-2021-09-01.csv\")\n",
    "data2[\"Volume\"] /= 10000000\n",
    "data2"
   ]
  },
  {
   "cell_type": "code",
   "execution_count": 106,
   "id": "be09ff32",
   "metadata": {},
   "outputs": [
    {
     "name": "stdout",
     "output_type": "stream",
     "text": [
      "99.99774571686204   %\n"
     ]
    }
   ],
   "source": [
    "wopen,wcopen = wieghts(\"Open\")"
   ]
  },
  {
   "cell_type": "code",
   "execution_count": null,
   "id": "6c55c661",
   "metadata": {},
   "outputs": [
    {
     "name": "stdout",
     "output_type": "stream",
     "text": [
      "32.477457168620376   %\n"
     ]
    }
   ],
   "source": [
    "whigh,wchigh = wieghts(\"High\")"
   ]
  },
  {
   "cell_type": "code",
   "execution_count": null,
   "id": "a4a7ac3f",
   "metadata": {},
   "outputs": [],
   "source": [
    "wlow,wclow = wieghts(\"Low\")"
   ]
  },
  {
   "cell_type": "code",
   "execution_count": null,
   "id": "574e29ec",
   "metadata": {},
   "outputs": [],
   "source": [
    "wclose,wcclose = wieghts(\"Close\")"
   ]
  },
  {
   "cell_type": "code",
   "execution_count": null,
   "id": "a658b71d",
   "metadata": {},
   "outputs": [],
   "source": [
    "wvol,wcvol = wieghts(\"Volume\")"
   ]
  },
  {
   "cell_type": "code",
   "execution_count": null,
   "id": "d21fa34a",
   "metadata": {},
   "outputs": [],
   "source": [
    "testlength = 20\n",
    "X = pd.DataFrame(np.array(data2.iloc[1000:1000+length+testlength,1:]))"
   ]
  },
  {
   "cell_type": "code",
   "execution_count": null,
   "id": "0d86bc17",
   "metadata": {},
   "outputs": [],
   "source": [
    "for i in range(testlength):\n",
    "    A = X[i:i+length]\n",
    "    A = np.array(A)\n",
    "    openc = h(A,wopen)\n",
    "    openval = f(openc,wcopen)\n",
    "    highc = h(A,whigh)\n",
    "    highval = f(highc,wchigh)\n",
    "    lowc = h(A,wlow)\n",
    "    lowval = f(openc,wclow)\n",
    "    closec = h(A,wclose)\n",
    "    closeval = f(openc,wcclose)\n",
    "    #volc = h(X[i:],wvol)\n",
    "    #volval = f(openc,wcvol)\n",
    "    volval = X.loc[length+i,4]\n",
    "    X.loc[length+i] = [openval,highval,lowval,closeval,volval]"
   ]
  },
  {
   "cell_type": "code",
   "execution_count": null,
   "id": "c06ab94a",
   "metadata": {},
   "outputs": [],
   "source": [
    "plt.plot(X[1][length:])\n",
    "plt.plot(data2[\"High\"][length:length+testlength])\n",
    "plt.show()"
   ]
  },
  {
   "cell_type": "code",
   "execution_count": null,
   "id": "38e1705c",
   "metadata": {},
   "outputs": [],
   "source": []
  }
 ],
 "metadata": {
  "kernelspec": {
   "display_name": "Python 3 (ipykernel)",
   "language": "python",
   "name": "python3"
  },
  "language_info": {
   "codemirror_mode": {
    "name": "ipython",
    "version": 3
   },
   "file_extension": ".py",
   "mimetype": "text/x-python",
   "name": "python",
   "nbconvert_exporter": "python",
   "pygments_lexer": "ipython3",
   "version": "3.7.11"
  }
 },
 "nbformat": 4,
 "nbformat_minor": 5
}
